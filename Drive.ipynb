{
  "cells": [
    {
      "metadata": {
        "_cell_guid": "9631385a-8e31-4600-b207-bca33c81e0de",
        "_execution_state": "idle",
        "_uuid": "d9163d403d777f932311c57e27a9bdc2a771e90a"
      },
      "cell_type": "markdown",
      "source": "**New York City Taxi Trip Duration**\n\nThis notebook goes through a simple process of extracting basic features, building a model and then make predictions.\n\nI am using the TPOT package to create a pipeline. TPOT is a Python Automated Machine Learning tool that optimizes machine learning pipelines using genetic programming. I thought it is useful to add this to the list of kernels available in this competition."
    },
    {
      "metadata": {
        "_cell_guid": "b896ae0a-1ad1-4472-95e7-ffbaf296f196",
        "_execution_state": "idle",
        "_uuid": "a1481fd13c682a054e31df2da430fd7fc20e655f"
      },
      "cell_type": "markdown",
      "source": "**Objective:**\n\nThe challenge is to build a model that predicts the total ride duration of taxi trips in New York City. The primary data set is released by the NYC Taxi and Limousine Commission, which includes pickup time, geo-coordinates, number of passengers, and several other variables.\nThis challenge is a little different from most because kagglers are encouraged to publish additional training data that other participants can use for their predictions.\n\nFirst things first, lets look at the data.\n\nI borrowed some feature engineering codes from Nir Mabin's [\"Dark Taxi - TripDurationPrediction\"](https://www.kaggle.com/donniedarko/darktaxi-tripdurationprediction-lb-0-385)\nand Beluga's [\"From EDA to the Top\"](https://www.kaggle.com/gaborfodor/from-eda-to-the-top-lb-0-367).\n\n**If this helped you, some up-votes would be very much appreciated - it would keep me motivated.**"
    },
    {
      "metadata": {
        "_cell_guid": "c6ca08fe-ba84-4292-9c09-4d6720e10af2",
        "_execution_state": "idle",
        "_uuid": "bc3cb35d1c95b5f81407156c85d691559df4c2fb",
        "trusted": true
      },
      "cell_type": "code",
      "source": "# Import libraries\nimport os\nmingw_path = 'g:/mingw64/bin'\nos.environ['PATH'] = mingw_path + ';' + os.environ['PATH']\nimport xgboost as xgb\n\nimport numpy as np\nimport os\nimport pandas as pd\nimport matplotlib.pyplot as plt\nimport seaborn as sns\ncolor = sns.color_palette()\n%matplotlib inline\nfrom haversine import haversine\nimport datetime as dt\n\nfrom subprocess import check_output\nprint(check_output([\"ls\", \"../input/nyc-taxi-trip-duration\"]).decode(\"utf8\"))",
      "execution_count": 1,
      "outputs": [
        {
          "output_type": "stream",
          "text": "sample_submission.csv\ntest.csv\ntrain.csv\n\n",
          "name": "stdout"
        }
      ]
    },
    {
      "metadata": {
        "_cell_guid": "cbea5ce4-b349-42db-8762-c123ed704a6a",
        "_execution_state": "idle",
        "_uuid": "62ab351c1741632952aa349cb52c91e305e3d190"
      },
      "cell_type": "markdown",
      "source": "****Load the data****"
    },
    {
      "metadata": {
        "_cell_guid": "dcd8b901-2123-4f5f-ab71-b9706df5f792",
        "_execution_state": "idle",
        "_uuid": "cc8143e47759a830349c82045653235ad9e3f97b",
        "trusted": true
      },
      "cell_type": "code",
      "source": "# Load training data as train\n#trainDF = pd.read_csv('../input/train.csv')\n#Use the line above instead of the one below if not running on Kaggle i.e. running locally.\ntrainDF = pd.read_csv('../input/nyc-taxi-trip-duration/train.csv', nrows=51000)\n\n# Load testing data as test\ntestDF = pd.read_csv('../input/nyc-taxi-trip-duration/test.csv')\n\n# Print size as well as the top 5 observation of training dataset\nprint('Size of the training set is: {} rows and {} columns'.format(*trainDF.shape))\nprint (\"\\n\", trainDF.head(5))",
      "execution_count": 2,
      "outputs": [
        {
          "output_type": "stream",
          "text": "Size of the training set is: 51000 rows and 11 columns\n\n           id  vendor_id      pickup_datetime     dropoff_datetime  \\\n0  id2875421          2  2016-03-14 17:24:55  2016-03-14 17:32:30   \n1  id2377394          1  2016-06-12 00:43:35  2016-06-12 00:54:38   \n2  id3858529          2  2016-01-19 11:35:24  2016-01-19 12:10:48   \n3  id3504673          2  2016-04-06 19:32:31  2016-04-06 19:39:40   \n4  id2181028          2  2016-03-26 13:30:55  2016-03-26 13:38:10   \n\n   passenger_count  pickup_longitude  pickup_latitude  dropoff_longitude  \\\n0                1        -73.982155        40.767937         -73.964630   \n1                1        -73.980415        40.738564         -73.999481   \n2                1        -73.979027        40.763939         -74.005333   \n3                1        -74.010040        40.719971         -74.012268   \n4                1        -73.973053        40.793209         -73.972923   \n\n   dropoff_latitude store_and_fwd_flag  trip_duration  \n0         40.765602                  N            455  \n1         40.731152                  N            663  \n2         40.710087                  N           2124  \n3         40.706718                  N            429  \n4         40.782520                  N            435  \n",
          "name": "stdout"
        }
      ]
    },
    {
      "metadata": {
        "_cell_guid": "b4f97a85-79ac-4dd2-ad17-853fa59f1aa8",
        "_execution_state": "idle",
        "_uuid": "a5830681606fa6057a6ac5ce8b8ab6fec101aa3e"
      },
      "cell_type": "markdown",
      "source": "We have only 11 columns but 1458644 rows which is a reasonable size. We also have two types of ids namely id and vendor_id. Lets try to understand this data.\n\nNOTE:\nThis statement reflects if you load the whole training data. In order to be able to run the whole script on Kaggle, I had to load only 50,000 rows of the training data to show the notebook in action."
    },
    {
      "metadata": {
        "_cell_guid": "19117eee-b89a-4a91-a71a-40922ecb318c",
        "_execution_state": "idle",
        "_uuid": "78c5c414e2aa9aead7a639ee4793d064a643d7e8"
      },
      "cell_type": "markdown",
      "source": "****Understanding Data****"
    },
    {
      "metadata": {
        "_uuid": "9099489cd1c546977df6a8ec00eb59faf9e78d48",
        "_execution_state": "idle",
        "scrolled": true,
        "_cell_guid": "126c91ff-1488-4852-af9f-b915cde786fa",
        "trusted": true
      },
      "cell_type": "code",
      "source": "# Look at the summary of numerical variables for train data set\ndf = trainDF.describe()\nprint (df)",
      "execution_count": 3,
      "outputs": [
        {
          "output_type": "stream",
          "text": "          vendor_id  passenger_count  pickup_longitude  pickup_latitude  \\\ncount  51000.000000     51000.000000      51000.000000     51000.000000   \nmean       1.529529         1.666922        -73.973495        40.751208   \nstd        0.499132         1.315837          0.037942         0.027973   \nmin        1.000000         1.000000        -74.393555        40.449749   \n25%        1.000000         1.000000        -73.991776        40.737579   \n50%        2.000000         1.000000        -73.981636        40.754436   \n75%        2.000000         2.000000        -73.967087        40.768505   \nmax        2.000000         6.000000        -73.518051        41.091171   \n\n       dropoff_longitude  dropoff_latitude  trip_duration  \ncount       51000.000000      51000.000000   51000.000000  \nmean          -73.973379         40.752004     949.162137  \nstd             0.036689          0.032522    3168.061719  \nmin           -74.398514         40.444698       1.000000  \n25%           -73.991371         40.736079     395.000000  \n50%           -73.979713         40.754587     659.000000  \n75%           -73.962896         40.769974    1072.000000  \nmax           -72.711395         41.311520   86357.000000  \n",
          "name": "stdout"
        }
      ]
    },
    {
      "metadata": {
        "_cell_guid": "f2e90c7b-0a11-40f1-b1f6-ab7c0708ede1",
        "_execution_state": "idle",
        "_uuid": "25fc29b2ad674f3d46741bb3de18e77cc8905813",
        "trusted": true
      },
      "cell_type": "code",
      "source": "# Print the shape of the data\nprint(\"Train shape : \", trainDF.shape)\nprint(\"Test shape : \", testDF.shape)",
      "execution_count": 4,
      "outputs": [
        {
          "output_type": "stream",
          "text": "Train shape :  (51000, 11)\nTest shape :  (625134, 9)\n",
          "name": "stdout"
        }
      ]
    },
    {
      "metadata": {
        "_cell_guid": "7b7efd88-9742-4537-882b-9b6c4dc6db51",
        "_execution_state": "idle",
        "_uuid": "3f14dd4ad48140155bc9db2dae667e3984f13bf8"
      },
      "cell_type": "markdown",
      "source": "**What are the data types ?**"
    },
    {
      "metadata": {
        "_cell_guid": "111ef821-d49a-4a88-9c64-0db1207f3c48",
        "_execution_state": "idle",
        "_uuid": "b853e6e929a3ae90e40118d10be8fb1a7e46cc9e",
        "trusted": true
      },
      "cell_type": "code",
      "source": "dtypeDF = trainDF.dtypes.reset_index()\ndtypeDF.columns = [\"Count\", \"Column Type\"]\ndtypeDF.groupby(\"Column Type\").aggregate('count').reset_index()",
      "execution_count": 5,
      "outputs": [
        {
          "output_type": "execute_result",
          "execution_count": 5,
          "data": {
            "text/plain": "  Column Type  Count\n0       int64      3\n1     float64      4\n2      object      4",
            "text/html": "<div>\n<style>\n    .dataframe thead tr:only-child th {\n        text-align: right;\n    }\n\n    .dataframe thead th {\n        text-align: left;\n    }\n\n    .dataframe tbody tr th {\n        vertical-align: top;\n    }\n</style>\n<table border=\"1\" class=\"dataframe\">\n  <thead>\n    <tr style=\"text-align: right;\">\n      <th></th>\n      <th>Column Type</th>\n      <th>Count</th>\n    </tr>\n  </thead>\n  <tbody>\n    <tr>\n      <th>0</th>\n      <td>int64</td>\n      <td>3</td>\n    </tr>\n    <tr>\n      <th>1</th>\n      <td>float64</td>\n      <td>4</td>\n    </tr>\n    <tr>\n      <th>2</th>\n      <td>object</td>\n      <td>4</td>\n    </tr>\n  </tbody>\n</table>\n</div>"
          },
          "metadata": {}
        }
      ]
    },
    {
      "metadata": {
        "_cell_guid": "9a6952ab-11de-40a1-b3ee-2a34ba5b01b0",
        "_execution_state": "idle",
        "_uuid": "1b81a39c4261b0b4183c58755f212ceae5081145"
      },
      "cell_type": "markdown",
      "source": "There are 3 integers, 4 floats and four categorical variables."
    },
    {
      "metadata": {
        "_cell_guid": "27d127dc-f6d9-4f78-9415-f5cacbc8f423",
        "_execution_state": "idle",
        "_uuid": "3f42d244578085349383ed65e49848986eb47f81"
      },
      "cell_type": "markdown",
      "source": "****Understanding distribution of target variable i.e trip duration.****"
    },
    {
      "metadata": {
        "_cell_guid": "bdbe5553-b1ef-4fc8-a3fd-c9209e358def",
        "_execution_state": "idle",
        "_uuid": "28810e6fb387ee629e4fa2211a90396cb2668ddd",
        "trusted": true
      },
      "cell_type": "code",
      "source": "# Plot the trip duration\nplt.figure(figsize=(8,6))\nplt.scatter(range(trainDF.shape[0]), np.sort(trainDF.trip_duration.values))\nplt.xlabel('index', fontsize=12)\nplt.ylabel('trip duration', fontsize=12)\nplt.show()",
      "execution_count": 6,
      "outputs": [
        {
          "output_type": "display_data",
          "data": {
            "text/plain": "<matplotlib.figure.Figure at 0x7fd2a538fb00>",
            "image/png": "[encoded data removed]"
          },
          "metadata": {}
        }
      ]
    },
    {
      "metadata": {
        "_cell_guid": "7e720e22-60d6-4dc9-a75f-1ab4ac800e84",
        "_execution_state": "idle",
        "_uuid": "cbcb72cd175bd1b7c2b7d8272d542955ba3266ae"
      },
      "cell_type": "markdown",
      "source": "We can see a few outliers with one way out there compared to the other 3 outliers. Lets remove those points so that we can zoom in."
    },
    {
      "metadata": {
        "_cell_guid": "8a2c8f87-bff5-468c-85e1-c5f7bc065274",
        "_execution_state": "idle",
        "_uuid": "ba00d0d2b723f12f7b02d93b7ec3f7b280b98114",
        "trusted": true
      },
      "cell_type": "code",
      "source": "# in train dataset some trip duration are very high (I consider them outliers and remove them before replotting it)\nth = trainDF.trip_duration.quantile(0.99)\ntempDF = trainDF\ntempDF = tempDF[tempDF['trip_duration'] < th]\nplt.figure(figsize=(8,6))\nplt.scatter(range(tempDF.shape[0]), np.sort(tempDF.trip_duration.values))\nplt.xlabel('index', fontsize=12)\nplt.ylabel('trip duration', fontsize=12)\nplt.show()\n\ndel tempDF",
      "execution_count": 7,
      "outputs": [
        {
          "output_type": "display_data",
          "data": {
            "text/plain": "<matplotlib.figure.Figure at 0x7fd2a528e978>",
            "image/png": "[encoded data removed]"
          },
          "metadata": {}
        }
      ]
    },
    {
      "metadata": {
        "_cell_guid": "3e48b250-389c-4d4a-9f68-c23712eb37c1",
        "collapsed": true,
        "_execution_state": "idle",
        "_uuid": "406447b01bc8f9879a36815974fdc8d494de7b0a",
        "trusted": true
      },
      "cell_type": "code",
      "source": "# Lets remove the outliers from the train data target\ntrainDF = trainDF[trainDF['trip_duration'] < th]",
      "execution_count": 8,
      "outputs": []
    },
    {
      "metadata": {
        "_cell_guid": "e7a0a6e6-d0d9-4cc8-9f9b-a84a28cc605b",
        "_execution_state": "idle",
        "_uuid": "3bde232817e116ad3e5a2723e65840a8a920bc47"
      },
      "cell_type": "markdown",
      "source": "Dealing with missing values"
    },
    {
      "metadata": {
        "_cell_guid": "e2e1463b-4fcc-446e-9e52-8cdeb922f891",
        "_execution_state": "idle",
        "_uuid": "8a30f78d5efbb2a3062d3f40474855ade2d5d2ae",
        "trusted": true
      },
      "cell_type": "code",
      "source": "# Number of variables with missing values\nvariables_missing_value = trainDF.isnull().sum()\nvariables_missing_value ",
      "execution_count": 9,
      "outputs": [
        {
          "output_type": "execute_result",
          "execution_count": 9,
          "data": {
            "text/plain": "id                    0\nvendor_id             0\npickup_datetime       0\ndropoff_datetime      0\npassenger_count       0\npickup_longitude      0\npickup_latitude       0\ndropoff_longitude     0\ndropoff_latitude      0\nstore_and_fwd_flag    0\ntrip_duration         0\ndtype: int64"
          },
          "metadata": {}
        }
      ]
    },
    {
      "metadata": {
        "_cell_guid": "8b68d25b-05b5-4949-9c23-23110af1ae80",
        "_execution_state": "idle",
        "_uuid": "f9e1b25035a3b98b34a2e5abe6127aa0cb504d20"
      },
      "cell_type": "markdown",
      "source": "Nice, there are no missing values in the training data. What about the test data?"
    },
    {
      "metadata": {
        "_cell_guid": "b785004b-94b9-4aac-9f50-3a691e1ba8bd",
        "_execution_state": "idle",
        "_uuid": "94cf2e30978d5d279268f7166db39f6b33716108",
        "trusted": true
      },
      "cell_type": "code",
      "source": "variables_missing_value = testDF.isnull().sum()\nvariables_missing_value ",
      "execution_count": 10,
      "outputs": [
        {
          "output_type": "execute_result",
          "execution_count": 10,
          "data": {
            "text/plain": "id                    0\nvendor_id             0\npickup_datetime       0\npassenger_count       0\npickup_longitude      0\npickup_latitude       0\ndropoff_longitude     0\ndropoff_latitude      0\nstore_and_fwd_flag    0\ndtype: int64"
          },
          "metadata": {}
        }
      ]
    },
    {
      "metadata": {
        "_cell_guid": "e3fd1357-f702-4d72-9517-2d86b4475f9d",
        "_execution_state": "idle",
        "_uuid": "9d7cc45a9f840931de9d4601106905c36bdb8321"
      },
      "cell_type": "markdown",
      "source": "There are no missing values in the test data either. So lets get to the modelling bit and brew that tea for NYC.\n\nFirst we have to do a quick data pre-processing and feature selection."
    },
    {
      "metadata": {
        "_cell_guid": "73fd5d9c-db98-4a7c-9860-777c052db459",
        "_execution_state": "idle",
        "_uuid": "d287f589fb044e91701ecfbdc76df8825827a800"
      },
      "cell_type": "markdown",
      "source": "****Feature Generation****\n\nHere we make a very simple data pre-processing and feature selection."
    },
    {
      "metadata": {
        "_cell_guid": "db13e472-90de-41b4-8a67-588bca58d737",
        "_uuid": "34db7cb4bc2f7175a634e065edb328f781bac53d",
        "trusted": true
      },
      "cell_type": "code",
      "source": "from sklearn.decomposition import PCA\nfrom sklearn.cluster import MiniBatchKMeans\n\nt0 = dt.datetime.now()\n\ntrain = trainDF\ntest = testDF\ndel trainDF, testDF\n\ntrain['pickup_datetime'] = pd.to_datetime(train.pickup_datetime)\ntest['pickup_datetime'] = pd.to_datetime(test.pickup_datetime)\ntrain.loc[:, 'pickup_date'] = train['pickup_datetime'].dt.date\ntest.loc[:, 'pickup_date'] = test['pickup_datetime'].dt.date\ntrain['dropoff_datetime'] = pd.to_datetime(train.dropoff_datetime)\ntrain['store_and_fwd_flag'] = 1 * (train.store_and_fwd_flag.values == 'Y')\ntest['store_and_fwd_flag'] = 1 * (test.store_and_fwd_flag.values == 'Y')\ntrain['check_trip_duration'] = (train['dropoff_datetime'] - train['pickup_datetime']).map(lambda x: x.total_seconds())\nduration_difference = train[np.abs(train['check_trip_duration'].values  - train['trip_duration'].values) > 1]\nprint('Trip_duration and datetimes are ok.') if len(duration_difference[['pickup_datetime', 'dropoff_datetime', 'trip_duration', 'check_trip_duration']]) == 0 else print('Ooops.')\n\ntrain['trip_duration'].describe()\n\ntrain['log_trip_duration'] = np.log(train['trip_duration'].values + 1)\n\n# Feature Extraction\ncoords = np.vstack((train[['pickup_latitude', 'pickup_longitude']].values,\n                    train[['dropoff_latitude', 'dropoff_longitude']].values,\n                    test[['pickup_latitude', 'pickup_longitude']].values,\n                    test[['dropoff_latitude', 'dropoff_longitude']].values))\n\npca = PCA().fit(coords)\ntrain['pickup_pca0'] = pca.transform(train[['pickup_latitude', 'pickup_longitude']])[:, 0]\ntrain['pickup_pca1'] = pca.transform(train[['pickup_latitude', 'pickup_longitude']])[:, 1]\ntrain['dropoff_pca0'] = pca.transform(train[['dropoff_latitude', 'dropoff_longitude']])[:, 0]\ntrain['dropoff_pca1'] = pca.transform(train[['dropoff_latitude', 'dropoff_longitude']])[:, 1]\ntest['pickup_pca0'] = pca.transform(test[['pickup_latitude', 'pickup_longitude']])[:, 0]\ntest['pickup_pca1'] = pca.transform(test[['pickup_latitude', 'pickup_longitude']])[:, 1]\ntest['dropoff_pca0'] = pca.transform(test[['dropoff_latitude', 'dropoff_longitude']])[:, 0]\ntest['dropoff_pca1'] = pca.transform(test[['dropoff_latitude', 'dropoff_longitude']])[:, 1]\n\n# Distance\ndef haversine_array(lat1, lng1, lat2, lng2):\n    lat1, lng1, lat2, lng2 = map(np.radians, (lat1, lng1, lat2, lng2))\n    AVG_EARTH_RADIUS = 6371  # in km\n    lat = lat2 - lat1\n    lng = lng2 - lng1\n    d = np.sin(lat * 0.5) ** 2 + np.cos(lat1) * np.cos(lat2) * np.sin(lng * 0.5) ** 2\n    h = 2 * AVG_EARTH_RADIUS * np.arcsin(np.sqrt(d))\n    return h\n\ndef dummy_manhattan_distance(lat1, lng1, lat2, lng2):\n    a = haversine_array(lat1, lng1, lat1, lng2)\n    b = haversine_array(lat1, lng1, lat2, lng1)\n    return a + b\n\ndef bearing_array(lat1, lng1, lat2, lng2):\n    AVG_EARTH_RADIUS = 6371  # in km\n    lng_delta_rad = np.radians(lng2 - lng1)\n    lat1, lng1, lat2, lng2 = map(np.radians, (lat1, lng1, lat2, lng2))\n    y = np.sin(lng_delta_rad) * np.cos(lat2)\n    x = np.cos(lat1) * np.sin(lat2) - np.sin(lat1) * np.cos(lat2) * np.cos(lng_delta_rad)\n    return np.degrees(np.arctan2(y, x))\n\ntrain.loc[:, 'distance_haversine'] = haversine_array(train['pickup_latitude'].values, train['pickup_longitude'].values, train['dropoff_latitude'].values, train['dropoff_longitude'].values)\ntrain.loc[:, 'distance_dummy_manhattan'] = dummy_manhattan_distance(train['pickup_latitude'].values, train['pickup_longitude'].values, train['dropoff_latitude'].values, train['dropoff_longitude'].values)\ntrain.loc[:, 'direction'] = bearing_array(train['pickup_latitude'].values, train['pickup_longitude'].values, train['dropoff_latitude'].values, train['dropoff_longitude'].values)\ntrain.loc[:, 'pca_manhattan'] = np.abs(train['dropoff_pca1'] - train['pickup_pca1']) + np.abs(train['dropoff_pca0'] - train['pickup_pca0'])\n\ntest.loc[:, 'distance_haversine'] = haversine_array(test['pickup_latitude'].values, test['pickup_longitude'].values, test['dropoff_latitude'].values, test['dropoff_longitude'].values)\ntest.loc[:, 'distance_dummy_manhattan'] = dummy_manhattan_distance(test['pickup_latitude'].values, test['pickup_longitude'].values, test['dropoff_latitude'].values, test['dropoff_longitude'].values)\ntest.loc[:, 'direction'] = bearing_array(test['pickup_latitude'].values, test['pickup_longitude'].values, test['dropoff_latitude'].values, test['dropoff_longitude'].values)\ntest.loc[:, 'pca_manhattan'] = np.abs(test['dropoff_pca1'] - test['pickup_pca1']) + np.abs(test['dropoff_pca0'] - test['pickup_pca0'])\n\ntrain.loc[:, 'center_latitude'] = (train['pickup_latitude'].values + train['dropoff_latitude'].values) / 2\ntrain.loc[:, 'center_longitude'] = (train['pickup_longitude'].values + train['dropoff_longitude'].values) / 2\ntest.loc[:, 'center_latitude'] = (test['pickup_latitude'].values + test['dropoff_latitude'].values) / 2\ntest.loc[:, 'center_longitude'] = (test['pickup_longitude'].values + test['dropoff_longitude'].values) / 2\n\n# Datetime features\ntrain.loc[:, 'pickup_weekday'] = train['pickup_datetime'].dt.weekday\ntrain.loc[:, 'pickup_hour_weekofyear'] = train['pickup_datetime'].dt.weekofyear\ntrain.loc[:, 'pickup_hour'] = train['pickup_datetime'].dt.hour\ntrain.loc[:, 'pickup_minute'] = train['pickup_datetime'].dt.minute\ntrain.loc[:, 'pickup_dt'] = (train['pickup_datetime'] - train['pickup_datetime'].min()).dt.total_seconds()\ntrain.loc[:, 'pickup_week_hour'] = train['pickup_weekday'] * 24 + train['pickup_hour']\n\ntest.loc[:, 'pickup_weekday'] = test['pickup_datetime'].dt.weekday\ntest.loc[:, 'pickup_hour_weekofyear'] = test['pickup_datetime'].dt.weekofyear\ntest.loc[:, 'pickup_hour'] = test['pickup_datetime'].dt.hour\ntest.loc[:, 'pickup_minute'] = test['pickup_datetime'].dt.minute\ntest.loc[:, 'pickup_dt'] = (test['pickup_datetime'] - train['pickup_datetime'].min()).dt.total_seconds()\ntest.loc[:, 'pickup_week_hour'] = test['pickup_weekday'] * 24 + test['pickup_hour']\n\ntrain.loc[:,'week_delta'] = train['pickup_datetime'].dt.weekday + \\\n    ((train['pickup_datetime'].dt.hour + (train['pickup_datetime'].dt.minute / 60.0)) / 24.0)\ntest.loc[:,'week_delta'] = test['pickup_datetime'].dt.weekday + \\\n    ((test['pickup_datetime'].dt.hour + (test['pickup_datetime'].dt.minute / 60.0)) / 24.0)\n\n# Make time features cyclic\ntrain.loc[:,'week_delta_sin'] = np.sin((train['week_delta'] / 7) * np.pi)**2\ntrain.loc[:,'hour_sin'] = np.sin((train['pickup_hour'] / 24) * np.pi)**2\n\ntest.loc[:,'week_delta_sin'] = np.sin((test['week_delta'] / 7) * np.pi)**2\ntest.loc[:,'hour_sin'] = np.sin((test['pickup_hour'] / 24) * np.pi)**2\n\n# Speed\ntrain.loc[:, 'avg_speed_h'] = 1000 * train['distance_haversine'] / train['trip_duration']\ntrain.loc[:, 'avg_speed_m'] = 1000 * train['distance_dummy_manhattan'] / train['trip_duration']\n\ntrain.loc[:, 'pickup_lat_bin'] = np.round(train['pickup_latitude'], 3)\ntrain.loc[:, 'pickup_long_bin'] = np.round(train['pickup_longitude'], 3)\n# Average speed for regions\ngby_cols = ['pickup_lat_bin', 'pickup_long_bin']\ncoord_speed = train.groupby(gby_cols).mean()[['avg_speed_h']].reset_index()\ncoord_count = train.groupby(gby_cols).count()[['id']].reset_index()\ncoord_stats = pd.merge(coord_speed, coord_count, on=gby_cols)\ncoord_stats = coord_stats[coord_stats['id'] > 100]\n\ntrain.loc[:, 'pickup_lat_bin'] = np.round(train['pickup_latitude'], 2)\ntrain.loc[:, 'pickup_long_bin'] = np.round(train['pickup_longitude'], 2)\ntrain.loc[:, 'center_lat_bin'] = np.round(train['center_latitude'], 2)\ntrain.loc[:, 'center_long_bin'] = np.round(train['center_longitude'], 2)\ntrain.loc[:, 'pickup_dt_bin'] = (train['pickup_dt'] // (3 * 3600))\ntest.loc[:, 'pickup_lat_bin'] = np.round(test['pickup_latitude'], 2)\ntest.loc[:, 'pickup_long_bin'] = np.round(test['pickup_longitude'], 2)\ntest.loc[:, 'center_lat_bin'] = np.round(test['center_latitude'], 2)\ntest.loc[:, 'center_long_bin'] = np.round(test['center_longitude'], 2)\ntest.loc[:, 'pickup_dt_bin'] = (test['pickup_dt'] // (3 * 3600))\n\n# Clustering\nsample_ind = np.random.permutation(len(coords))[:500000]\nkmeans = MiniBatchKMeans(n_clusters=100, batch_size=10000).fit(coords[sample_ind])\n\ntrain.loc[:, 'pickup_cluster'] = kmeans.predict(train[['pickup_latitude', 'pickup_longitude']])\ntrain.loc[:, 'dropoff_cluster'] = kmeans.predict(train[['dropoff_latitude', 'dropoff_longitude']])\ntest.loc[:, 'pickup_cluster'] = kmeans.predict(test[['pickup_latitude', 'pickup_longitude']])\ntest.loc[:, 'dropoff_cluster'] = kmeans.predict(test[['dropoff_latitude', 'dropoff_longitude']])\nt1 = dt.datetime.now()\nprint('Time till clustering: %i seconds' % (t1 - t0).seconds)\n\n# Temporal and geospatial aggregation\nfor gby_col in ['pickup_hour', 'pickup_date', 'pickup_dt_bin',\n               'pickup_week_hour', 'pickup_cluster', 'dropoff_cluster']:\n    gby = train.groupby(gby_col).mean()[['avg_speed_h', 'avg_speed_m', 'log_trip_duration']]\n    gby.columns = ['%s_gby_%s' % (col, gby_col) for col in gby.columns]\n    train = pd.merge(train, gby, how='left', left_on=gby_col, right_index=True)\n    test = pd.merge(test, gby, how='left', left_on=gby_col, right_index=True)\n\nfor gby_cols in [['center_lat_bin', 'center_long_bin'],\n                 ['pickup_hour', 'center_lat_bin', 'center_long_bin'],\n                 ['pickup_hour', 'pickup_cluster'],  ['pickup_hour', 'dropoff_cluster'],\n                 ['pickup_cluster', 'dropoff_cluster']]:\n    coord_speed = train.groupby(gby_cols).mean()[['avg_speed_h']].reset_index()\n    coord_count = train.groupby(gby_cols).count()[['id']].reset_index()\n    coord_stats = pd.merge(coord_speed, coord_count, on=gby_cols)\n    coord_stats = coord_stats[coord_stats['id'] > 100]\n    coord_stats.columns = gby_cols + ['avg_speed_h_%s' % '_'.join(gby_cols), 'cnt_%s' %  '_'.join(gby_cols)]\n    train = pd.merge(train, coord_stats, how='left', on=gby_cols)\n    test = pd.merge(test, coord_stats, how='left', on=gby_cols)\n\ngroup_freq = '60min'\ndf_all = pd.concat((train, test))[['id', 'pickup_datetime', 'pickup_cluster', 'dropoff_cluster']]\ntrain.loc[:, 'pickup_datetime_group'] = train['pickup_datetime'].dt.round(group_freq)\ntest.loc[:, 'pickup_datetime_group'] = test['pickup_datetime'].dt.round(group_freq)\n\n# Count trips over 60min\ndf_counts = df_all.set_index('pickup_datetime')[['id']].sort_index()\ndf_counts['count_60min'] = df_counts.isnull().rolling(group_freq).count()['id']\ntrain = train.merge(df_counts, on='id', how='left')\ntest = test.merge(df_counts, on='id', how='left')\n\n# Count how many trips are going to each cluster over time\ndropoff_counts = df_all \\\n    .set_index('pickup_datetime') \\\n    .groupby([pd.TimeGrouper(group_freq), 'dropoff_cluster']) \\\n    .agg({'id': 'count'}) \\\n    .reset_index().set_index('pickup_datetime') \\\n    .groupby('dropoff_cluster').rolling('240min').mean() \\\n    .drop('dropoff_cluster', axis=1) \\\n    .reset_index().set_index('pickup_datetime').shift(freq='-120min').reset_index() \\\n    .rename(columns={'pickup_datetime': 'pickup_datetime_group', 'id': 'dropoff_cluster_count'})\n\ntrain['dropoff_cluster_count'] = train[['pickup_datetime_group', 'dropoff_cluster']].merge(dropoff_counts, on=['pickup_datetime_group', 'dropoff_cluster'], how='left')['dropoff_cluster_count'].fillna(0)\ntest['dropoff_cluster_count'] = test[['pickup_datetime_group', 'dropoff_cluster']].merge(dropoff_counts, on=['pickup_datetime_group', 'dropoff_cluster'], how='left')['dropoff_cluster_count'].fillna(0)\n\n# Count how many trips are going from each cluster over time\ndf_all = pd.concat((train, test))[['id', 'pickup_datetime', 'pickup_cluster', 'dropoff_cluster']]\npickup_counts = df_all \\\n    .set_index('pickup_datetime') \\\n    .groupby([pd.TimeGrouper(group_freq), 'pickup_cluster']) \\\n    .agg({'id': 'count'}) \\\n    .reset_index().set_index('pickup_datetime') \\\n    .groupby('pickup_cluster').rolling('240min').mean() \\\n    .drop('pickup_cluster', axis=1) \\\n    .reset_index().set_index('pickup_datetime').shift(freq='-120min').reset_index() \\\n    .rename(columns={'pickup_datetime': 'pickup_datetime_group', 'id': 'pickup_cluster_count'})\n\ntrain['pickup_cluster_count'] = train[['pickup_datetime_group', 'pickup_cluster']].merge(pickup_counts, on=['pickup_datetime_group', 'pickup_cluster'], how='left')['pickup_cluster_count'].fillna(0)\ntest['pickup_cluster_count'] = test[['pickup_datetime_group', 'pickup_cluster']].merge(pickup_counts, on=['pickup_datetime_group', 'pickup_cluster'], how='left')['pickup_cluster_count'].fillna(0)\n\n# For this particular problem we can add OSRM ([Open Source Routing Machine](http://project-osrm.org/ \n# \"OSRM\")) features. This data contains the fastest routes from specific starting points in NY.\nfr1 = pd.read_csv('../input/new-york-city-taxi-with-osrm/fastest_routes_train_part_1.csv', usecols=['id', 'total_distance', 'total_travel_time',  'number_of_steps'])\nfr2 = pd.read_csv('../input/new-york-city-taxi-with-osrm//fastest_routes_train_part_2.csv', usecols=['id', 'total_distance', 'total_travel_time', 'number_of_steps'])\ntest_street_info = pd.read_csv('../input/new-york-city-taxi-with-osrm/fastest_routes_test.csv',\n                               usecols=['id', 'total_distance', 'total_travel_time', 'number_of_steps'])\ntrain_street_info = pd.concat((fr1, fr2))\ntrain = train.merge(train_street_info, how='left', on='id')\ntest = test.merge(test_street_info, how='left', on='id')\n\n\n",
      "execution_count": 11,
      "outputs": [
        {
          "output_type": "stream",
          "text": "Trip_duration and datetimes are ok.\nTime till clustering: 30 seconds\n",
          "name": "stdout"
        }
      ]
    },
    {
      "metadata": {
        "_cell_guid": "e577d3a7-2813-49b1-bd16-25f7c496f8e8",
        "_uuid": "989ec5b4871eadac9f097bf8d470358c9b902b8a",
        "trusted": true
      },
      "cell_type": "code",
      "source": "feature_names = list(train.columns)\nprint(np.setdiff1d(train.columns, test.columns))\ndo_not_use_for_training = ['id', 'log_trip_duration', 'pickup_datetime', 'dropoff_datetime', 'trip_duration', 'check_trip_duration',\n                           'pickup_date', 'avg_speed_h', 'avg_speed_m', 'pickup_lat_bin', 'pickup_long_bin',\n                           'center_lat_bin', 'center_long_bin', 'pickup_dt_bin', 'pickup_datetime_group']\nfeature_names = [f for f in train.columns if f not in do_not_use_for_training]\n# print(feature_names)\nprint('We have %i features.' % len(feature_names))\ntrain[feature_names].count()\n#ytrain = np.log(train['trip_duration'].values + 1)\n#ytrain = train[train['trip_duration'].notnull()]['trip_duration_log'].values\n\n\nt1 = dt.datetime.now()\nprint('Feature extraction time: %i seconds' % (t1 - t0).seconds)",
      "execution_count": 12,
      "outputs": [
        {
          "output_type": "stream",
          "text": "['avg_speed_h' 'avg_speed_m' 'check_trip_duration' 'dropoff_datetime'\n 'log_trip_duration' 'trip_duration']\nWe have 62 features.\nFeature extraction time: 73 seconds\n",
          "name": "stdout"
        }
      ]
    },
    {
      "metadata": {
        "_cell_guid": "aecd2d05-b748-42f2-9383-f1b602f027ce",
        "_uuid": "8f03a44ff9f5a35ccc6b7d4886ad56017101fde2"
      },
      "cell_type": "markdown",
      "source": "****Feature check before modeling****"
    },
    {
      "metadata": {
        "_cell_guid": "acd51790-de3c-496f-94ed-1c2e09227f5a",
        "_uuid": "579ca306990e7173c892d40b18a2f32265954905",
        "trusted": true
      },
      "cell_type": "code",
      "source": "feature_stats = pd.DataFrame({'feature': feature_names})\nfeature_stats.loc[:, 'train_mean'] = np.nanmean(train[feature_names].values, axis=0).round(4)\nfeature_stats.loc[:, 'test_mean'] = np.nanmean(test[feature_names].values, axis=0).round(4)\nfeature_stats.loc[:, 'train_std'] = np.nanstd(train[feature_names].values, axis=0).round(4)\nfeature_stats.loc[:, 'test_std'] = np.nanstd(test[feature_names].values, axis=0).round(4)\nfeature_stats.loc[:, 'train_nan'] = np.mean(np.isnan(train[feature_names].values), axis=0).round(3)\nfeature_stats.loc[:, 'test_nan'] = np.mean(np.isnan(test[feature_names].values), axis=0).round(3)\nfeature_stats.loc[:, 'train_test_mean_diff'] = np.abs(feature_stats['train_mean'] - feature_stats['test_mean']) / np.abs(feature_stats['train_std'] + feature_stats['test_std'])  * 2\nfeature_stats.loc[:, 'train_test_nan_diff'] = np.abs(feature_stats['train_nan'] - feature_stats['test_nan'])\nfeature_stats = feature_stats.sort_values(by='train_test_mean_diff')\nfeature_stats[['feature', 'train_test_mean_diff']].tail()",
      "execution_count": 13,
      "outputs": [
        {
          "output_type": "execute_result",
          "execution_count": 13,
          "data": {
            "text/plain": "                               feature  train_test_mean_diff\n59                      total_distance              0.032795\n12            distance_dummy_manhattan              0.033257\n11                  distance_haversine              0.033549\n14                       pca_manhattan              0.033868\n55  cnt_pickup_cluster_dropoff_cluster              0.040322",
            "text/html": "<div>\n<style>\n    .dataframe thead tr:only-child th {\n        text-align: right;\n    }\n\n    .dataframe thead th {\n        text-align: left;\n    }\n\n    .dataframe tbody tr th {\n        vertical-align: top;\n    }\n</style>\n<table border=\"1\" class=\"dataframe\">\n  <thead>\n    <tr style=\"text-align: right;\">\n      <th></th>\n      <th>feature</th>\n      <th>train_test_mean_diff</th>\n    </tr>\n  </thead>\n  <tbody>\n    <tr>\n      <th>59</th>\n      <td>total_distance</td>\n      <td>0.032795</td>\n    </tr>\n    <tr>\n      <th>12</th>\n      <td>distance_dummy_manhattan</td>\n      <td>0.033257</td>\n    </tr>\n    <tr>\n      <th>11</th>\n      <td>distance_haversine</td>\n      <td>0.033549</td>\n    </tr>\n    <tr>\n      <th>14</th>\n      <td>pca_manhattan</td>\n      <td>0.033868</td>\n    </tr>\n    <tr>\n      <th>55</th>\n      <td>cnt_pickup_cluster_dropoff_cluster</td>\n      <td>0.040322</td>\n    </tr>\n  </tbody>\n</table>\n</div>"
          },
          "metadata": {}
        }
      ]
    },
    {
      "metadata": {
        "_cell_guid": "88e7cecd-c924-49ce-9148-1c60caf7b158",
        "_execution_state": "idle",
        "_uuid": "284a903e1c8fdd77376dcb0ad40c80dda206375f"
      },
      "cell_type": "markdown",
      "source": "****Train a simple classifier****\n\nWe use the TPOT package to handle the cross validation and hyperparameters for us"
    },
    {
      "metadata": {
        "_cell_guid": "fb6ae6a0-249a-42e3-9bd6-282505f9bf41",
        "collapsed": true,
        "_execution_state": "idle",
        "_uuid": "a78cf0849fb37f4f853863b9e2f9d44fdaf1f0e1",
        "trusted": true
      },
      "cell_type": "code",
      "source": "from tpot import TPOTRegressor\nauto_classifier = TPOTRegressor(generations=3, population_size=10, verbosity=2)\nfrom sklearn.model_selection import train_test_split",
      "execution_count": 14,
      "outputs": []
    },
    {
      "metadata": {
        "_cell_guid": "aa28099d-91cb-4f33-b802-193b83f94a8b",
        "_execution_state": "idle",
        "_uuid": "3aca2423d4e71da6603a3d9caa581df0abbae451"
      },
      "cell_type": "markdown",
      "source": "**Split the training data to train and validate**"
    },
    {
      "metadata": {
        "_cell_guid": "b7603ffe-f702-456a-821f-4f1d11f19533",
        "_execution_state": "idle",
        "_uuid": "4aa44f013328df33350cebc54c27169ef0e372a7",
        "trusted": true
      },
      "cell_type": "code",
      "source": "# K Fold Cross Validation\nfrom sklearn.model_selection import KFold\n\nX = train[feature_names].values\ny = np.log(train['trip_duration'].values + 1)  \n\n\nkf = KFold(n_splits=10)\nkf.get_n_splits(X)\n\nprint(kf)  \n\nKFold(n_splits=10, random_state=None, shuffle=False)\nfor train_index, test_index in kf.split(X):\n    print(\"TRAIN:\", train_index, \"TEST:\", test_index)\n    X_train, X_valid = X[train_index], X[test_index]\n    y_train, y_valid = y[train_index], y[test_index]",
      "execution_count": 15,
      "outputs": [
        {
          "output_type": "stream",
          "text": "KFold(n_splits=10, random_state=None, shuffle=False)\nTRAIN: [ 5049  5050  5051 ..., 50487 50488 50489] TEST: [   0    1    2 ..., 5046 5047 5048]\nTRAIN: [    0     1     2 ..., 50487 50488 50489] TEST: [ 5049  5050  5051 ..., 10095 10096 10097]\nTRAIN: [    0     1     2 ..., 50487 50488 50489] TEST: [10098 10099 10100 ..., 15144 15145 15146]\nTRAIN: [    0     1     2 ..., 50487 50488 50489] TEST: [15147 15148 15149 ..., 20193 20194 20195]\nTRAIN: [    0     1     2 ..., 50487 50488 50489] TEST: [20196 20197 20198 ..., 25242 25243 25244]\nTRAIN: [    0     1     2 ..., 50487 50488 50489] TEST: [25245 25246 25247 ..., 30291 30292 30293]\nTRAIN: [    0     1     2 ..., 50487 50488 50489] TEST: [30294 30295 30296 ..., 35340 35341 35342]\nTRAIN: [    0     1     2 ..., 50487 50488 50489] TEST: [35343 35344 35345 ..., 40389 40390 40391]\nTRAIN: [    0     1     2 ..., 50487 50488 50489] TEST: [40392 40393 40394 ..., 45438 45439 45440]\nTRAIN: [    0     1     2 ..., 45438 45439 45440] TEST: [45441 45442 45443 ..., 50487 50488 50489]\n",
          "name": "stdout"
        }
      ]
    },
    {
      "metadata": {
        "_cell_guid": "3daca28b-7ac0-4f0b-a235-f1929698c9a4",
        "_execution_state": "idle",
        "_uuid": "7512c52267292580a375a03f5bd973318c77c6cc",
        "trusted": true
      },
      "cell_type": "code",
      "source": "auto_classifier.fit(X_train, y_train)",
      "execution_count": null,
      "outputs": []
    },
    {
      "metadata": {
        "_cell_guid": "a760e6e4-ba80-4420-b046-3620c63d7680",
        "_execution_state": "idle",
        "_uuid": "d110174069ff841b8d69602022051c0c4ba09149",
        "trusted": true,
        "collapsed": true
      },
      "cell_type": "code",
      "source": "print(\"The cross-validation MSE\")\nprint(auto_classifier.score(X_valid, y_valid))",
      "execution_count": null,
      "outputs": []
    },
    {
      "metadata": {
        "_cell_guid": "205919a7-80bb-477f-93c8-95f4f75ed399",
        "_execution_state": "idle",
        "_uuid": "eb674e18fcd03006bbe7bb7f70cba688e6ca349c",
        "trusted": true,
        "collapsed": true
      },
      "cell_type": "code",
      "source": "# Now do the prediction\ntest_result = auto_classifier.predict(test[feature_names].values)\nsub = pd.DataFrame()\nsub['id'] = test['id']\nsub['trip_duration'] = np.exp(test_result)\nsub.to_csv('NYCTaxi_TpotModels.csv', index=False)\nsub.head()",
      "execution_count": null,
      "outputs": []
    },
    {
      "metadata": {
        "_cell_guid": "573a2b82-cced-4424-9f10-7a8e2276cedf",
        "collapsed": true,
        "_execution_state": "idle",
        "_uuid": "30c05fa69862c8167d67220d5eaacc401d982db3",
        "trusted": true
      },
      "cell_type": "code",
      "source": "# Export the model\nauto_classifier.export('NYCTaxi_pipeline.py')",
      "execution_count": null,
      "outputs": []
    },
    {
      "metadata": {
        "_cell_guid": "ff96a60b-c2ef-4731-a9eb-da327e63e697",
        "_execution_state": "idle",
        "_uuid": "433f20ca962f987564cf825e31a3bfead0967fea"
      },
      "cell_type": "markdown",
      "source": "That is it for now. You can run locally with more number of generations, population, etc. to get a better result. Because of Kaggle time limitations I could not choose parameters that take longer to run.\n\nI hope you like it. If so please up-vote. \n\n**Stay tuned !!!**"
    }
  ],
  "metadata": {
    "kernelspec": {
      "display_name": "Python 3",
      "language": "python",
      "name": "python3"
    },
    "language_info": {
      "name": "python",
      "version": "3.6.1",
      "mimetype": "text/x-python",
      "codemirror_mode": {
        "name": "ipython",
        "version": 3
      },
      "pygments_lexer": "ipython3",
      "nbconvert_exporter": "python",
      "file_extension": ".py"
    }
  },
  "nbformat": 4,
  "nbformat_minor": 1
}